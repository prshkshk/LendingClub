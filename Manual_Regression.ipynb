{
 "cells": [
  {
   "cell_type": "code",
   "execution_count": 36,
   "metadata": {
    "collapsed": true
   },
   "outputs": [],
   "source": [
    "import pandas as pd\n",
    "from sklearn.model_selection import train_test_split\n",
    "from sklearn.metrics import accuracy_score\n",
    "from sklearn.metrics import mean_absolute_error\n",
    "from sklearn.metrics import mean_squared_error\n",
    "from sklearn.linear_model import LinearRegression\n",
    "from sklearn.model_selection import cross_val_score\n",
    "from sklearn.ensemble import RandomForestRegressor\n",
    "from sklearn.neighbors import KNeighborsRegressor\n",
    "from sklearn.metrics import r2_score\n",
    "from sklearn.preprocessing import StandardScaler\n",
    "from sklearn.neural_network import MLPRegressor\n",
    "import numpy as np\n",
    "import math\n",
    "from sklearn.externals import joblib"
   ]
  },
  {
   "cell_type": "code",
   "execution_count": 19,
   "metadata": {
    "collapsed": true
   },
   "outputs": [],
   "source": [
    "def mean_absolute_percentage_error(y_true, y_pred): \n",
    "    y_true, y_pred = np.array(y_true), np.array(y_pred)\n",
    "    return np.mean(np.abs((y_true - y_pred) / y_true)) * 100"
   ]
  },
  {
   "cell_type": "code",
   "execution_count": 33,
   "metadata": {
    "collapsed": true
   },
   "outputs": [],
   "source": [
    "cluster1_df = pd.read_csv('C:\\\\ADS\\\\LendingClubData\\\\loan_data\\\\Manual_Cluster_1.csv',low_memory=False)\n",
    "cluster2_df = pd.read_csv('C:\\\\ADS\\\\LendingClubData\\\\loan_data\\\\Manual_Cluster_2.csv',low_memory=False)\n",
    "cluster3_df = pd.read_csv('C:\\\\ADS\\\\LendingClubData\\\\loan_data\\\\Manual_Cluster_3.csv',low_memory=False)\n",
    "cluster4_df = pd.read_csv('C:\\\\ADS\\\\LendingClubData\\\\loan_data\\\\Manual_Cluster_4.csv',low_memory=False)\n",
    "cluster5_df = pd.read_csv('C:\\\\ADS\\\\LendingClubData\\\\loan_data\\\\Manual_Cluster_5.csv',low_memory=False)\n",
    "cluster6_df = pd.read_csv('C:\\\\ADS\\\\LendingClubData\\\\loan_data\\\\Manual_Cluster_6.csv',low_memory=False)"
   ]
  },
  {
   "cell_type": "code",
   "execution_count": 34,
   "metadata": {
    "collapsed": true
   },
   "outputs": [],
   "source": [
    "cluster_df_list=[cluster1_df,cluster2_df,cluster3_df,cluster4_df,cluster5_df,cluster6_df]"
   ]
  },
  {
   "cell_type": "code",
   "execution_count": 35,
   "metadata": {},
   "outputs": [
    {
     "name": "stdout",
     "output_type": "stream",
     "text": [
      "Starting Linear Regression\n",
      "MAE is  0.619045923537\n",
      "RMSE is  0.7444371305159638\n",
      "MAPE is  5.81340352896\n",
      "Training score is  0.685419461373\n",
      "Testing score is  0.684273898128\n",
      "Starting Linear Regression\n",
      "MAE is  0.517825090323\n",
      "RMSE is  0.7029735110531719\n",
      "MAPE is  3.66805340377\n",
      "Training score is  0.662959862148\n",
      "Testing score is  0.664717108159\n",
      "Starting Linear Regression\n",
      "MAE is  0.90996193563\n",
      "RMSE is  1.0700698298152453\n",
      "MAPE is  5.1851303516\n",
      "Training score is  0.474836482583\n",
      "Testing score is  0.477808034682\n",
      "Starting Linear Regression\n",
      "MAE is  1.47906133674\n",
      "RMSE is  1.8426624635342335\n",
      "MAPE is  7.19417750462\n",
      "Training score is  0.144565264981\n",
      "Testing score is  0.144469612467\n",
      "Starting Linear Regression\n",
      "MAE is  0.700377125973\n",
      "RMSE is  1.1378194377470803\n",
      "MAPE is  3.25642870748\n",
      "Training score is  0.26529406694\n",
      "Testing score is  0.268293709826\n",
      "Starting Linear Regression\n",
      "MAE is  1.69642863692\n",
      "RMSE is  3.0363765757660732\n",
      "MAPE is  12.4590894153\n",
      "Training score is  0.308516274469\n",
      "Testing score is  0.177860777489\n"
     ]
    }
   ],
   "source": [
    "for df in cluster_df_list:\n",
    "    df = df[df['int_rate'].notnull()]\n",
    "    x_set = df.drop(['int_rate'], axis=1)\n",
    "    y_set = df['int_rate']\n",
    "    x_train, x_test, y_train, y_test = train_test_split(x_set, y_set, random_state=0)\n",
    "    print(\"Starting Linear Regression\")\n",
    "    lr = LinearRegression()\n",
    "    lr.fit(x_train, y_train)\n",
    "    lr_predictions = lr.predict(x_test)\n",
    "    print(\"MAE is \",mean_absolute_error(y_test, lr_predictions))\n",
    "    print(\"RMSE is \",math.sqrt(mean_squared_error(y_test, lr_predictions)))\n",
    "    print(\"MAPE is \",mean_absolute_percentage_error(y_test, lr_predictions))\n",
    "    print(\"Training score is \",lr.score(x_train, y_train))\n",
    "    print(\"Testing score is \",lr.score(x_test, y_test))"
   ]
  },
  {
   "cell_type": "code",
   "execution_count": 29,
   "metadata": {},
   "outputs": [
    {
     "name": "stdout",
     "output_type": "stream",
     "text": [
      "Starting Random Forrest Regression\n",
      "MAE is  0.625939594849\n",
      "RMSE is  0.7770146881889732\n",
      "MAPE is  5.86970154311\n",
      "Testing score is  0.65603607844\n",
      "Starting Random Forrest Regression\n",
      "MAE is  0.561286819286\n",
      "RMSE is  0.7397793396657656\n",
      "MAPE is  3.99585406278\n",
      "Testing score is  0.628688953935\n",
      "Starting Random Forrest Regression\n",
      "MAE is  0.919152862094\n",
      "RMSE is  1.1392595589658638\n",
      "MAPE is  5.22393900522\n",
      "Testing score is  0.408095953796\n",
      "Starting Random Forrest Regression\n",
      "MAE is  1.54609609856\n",
      "RMSE is  1.9593478840218772\n",
      "MAPE is  7.5277858357\n",
      "Testing score is  0.0326871295707\n",
      "Starting Random Forrest Regression\n",
      "MAE is  0.742476215387\n",
      "RMSE is  1.2179922978012612\n",
      "MAPE is  3.42098051956\n",
      "Testing score is  0.161546127242\n",
      "Starting Random Forrest Regression\n",
      "MAE is  1.51939506173\n",
      "RMSE is  2.87554438431627\n",
      "MAPE is  11.0492172363\n",
      "Testing score is  0.262649033377\n"
     ]
    }
   ],
   "source": [
    "count = 0\n",
    "for df in cluster_df_list:\n",
    "    df = df[df['int_rate'].notnull()]\n",
    "    x_set = df.drop(['int_rate'], axis=1)\n",
    "    y_set = df['int_rate']\n",
    "    x_train, x_test, y_train, y_test = train_test_split(x_set, y_set, random_state=0)\n",
    "    x_train = StandardScaler().fit_transform(x_train)\n",
    "    x_test = StandardScaler().fit_transform(x_test)\n",
    "    print(\"Starting Random Forrest Regression\")\n",
    "    rfr = RandomForestRegressor(n_jobs=2)\n",
    "    rfr.fit(x_train, y_train)\n",
    "    joblib.dump(rfr,'C:\\\\ADS\\\\LendingClubData\\\\loan_data\\\\m_best_model_'+str(count)+'.pkl')\n",
    "    rfr_predictions = rfr.predict(x_test)\n",
    "    print(\"MAE is \",mean_absolute_error(y_test, rfr_predictions))\n",
    "    print(\"RMSE is \",math.sqrt(mean_squared_error(y_test, rfr_predictions)))\n",
    "    print(\"MAPE is \",mean_absolute_percentage_error(y_test, rfr_predictions))\n",
    "    print(\"Training score is \",rfr.score(x_train, y_train))\n",
    "    print(\"Testing score is \",rfr.score(y_test, rfr_predictions))\n",
    "    count += 1"
   ]
  },
  {
   "cell_type": "code",
   "execution_count": 24,
   "metadata": {},
   "outputs": [
    {
     "name": "stdout",
     "output_type": "stream",
     "text": [
      "Starting KNN Regression\n",
      "MAE is  1.9188957476\n",
      "RMSE is  3.117456566544597\n",
      "MAPE is  13.3535169527\n",
      "Training score is  0.268149092485\n",
      "Testing score is  0.133367590968\n",
      "Starting KNN Regression\n",
      "MAE is  1.9188957476\n",
      "RMSE is  3.117456566544597\n",
      "MAPE is  13.3535169527\n",
      "Training score is  0.268149092485\n",
      "Testing score is  0.133367590968\n",
      "Starting KNN Regression\n",
      "MAE is  1.9188957476\n",
      "RMSE is  3.117456566544597\n",
      "MAPE is  13.3535169527\n",
      "Training score is  0.268149092485\n",
      "Testing score is  0.133367590968\n",
      "Starting KNN Regression\n",
      "MAE is  1.9188957476\n",
      "RMSE is  3.117456566544597\n",
      "MAPE is  13.3535169527\n",
      "Training score is  0.268149092485\n",
      "Testing score is  0.133367590968\n",
      "Starting KNN Regression\n",
      "MAE is  1.9188957476\n",
      "RMSE is  3.117456566544597\n",
      "MAPE is  13.3535169527\n",
      "Training score is  0.268149092485\n",
      "Testing score is  0.133367590968\n",
      "Starting KNN Regression\n",
      "MAE is  1.9188957476\n",
      "RMSE is  3.117456566544597\n",
      "MAPE is  13.3535169527\n",
      "Training score is  0.268149092485\n",
      "Testing score is  0.133367590968\n"
     ]
    }
   ],
   "source": [
    "for df in cluster_df_list:\n",
    "    df = df[df['int_rate'].notnull()]\n",
    "    x_train, x_test, y_train, y_test = train_test_split(x_set, y_set, random_state=0)\n",
    "    x_train = StandardScaler().fit_transform(x_train)\n",
    "    x_test = StandardScaler().fit_transform(x_test)\n",
    "    print(\"Starting KNN Regression\")\n",
    "    knn = KNeighborsRegressor(n_neighbors=4)\n",
    "    knn.fit(x_train,y_train.values.ravel())\n",
    "    knn_predictions = knn.predict(x_test)\n",
    "    print(\"MAE is \",mean_absolute_error(y_test, knn_predictions))\n",
    "    print(\"RMSE is \",math.sqrt(mean_squared_error(y_test, knn_predictions)))\n",
    "    print(\"MAPE is \",mean_absolute_percentage_error(y_test, knn_predictions))\n",
    "    print(\"Training score is \",knn.score(x_train, y_train))\n",
    "    print(\"Testing score is \",knn.score(x_test, y_test))"
   ]
  },
  {
   "cell_type": "code",
   "execution_count": 32,
   "metadata": {},
   "outputs": [
    {
     "name": "stdout",
     "output_type": "stream",
     "text": [
      "Starting MLP Regression\n",
      "MAE is  0.603296000875\n",
      "RMSE is  0.7301042708520497\n",
      "MAPE is  5.65853775588\n",
      "Training score is  0.697698495174\n",
      "Testing score is  0.696314390705\n",
      "Starting MLP Regression\n",
      "MAE is  0.520386475197\n",
      "RMSE is  0.6991683146881852\n",
      "MAPE is  3.68736417649\n",
      "Training score is  0.669270033062\n",
      "Testing score is  0.668337057478\n",
      "Starting MLP Regression\n",
      "MAE is  0.899877515895\n",
      "RMSE is  1.0675459665507239\n",
      "MAPE is  5.12344252765\n",
      "Training score is  0.483986998467\n",
      "Testing score is  0.480268410324\n",
      "Starting MLP Regression\n",
      "MAE is  1.47521896809\n",
      "RMSE is  1.8385684055616545\n",
      "MAPE is  7.18037825937\n",
      "Training score is  0.168023788954\n",
      "Testing score is  0.14826705233\n",
      "Starting MLP Regression\n",
      "MAE is  0.74796474131\n",
      "RMSE is  1.2054388285311775\n",
      "MAPE is  3.45122473044\n",
      "Training score is  0.321262847302\n",
      "Testing score is  0.178740428693\n",
      "Starting MLP Regression\n",
      "MAE is  2.1487538331\n",
      "RMSE is  3.4671169970753817\n",
      "MAPE is  14.4077897062\n",
      "Training score is  0.692600181941\n",
      "Testing score is  -0.0719415307648\n"
     ]
    }
   ],
   "source": [
    "for df in cluster_df_list:\n",
    "    df = df[df['int_rate'].notnull()]\n",
    "    x_set = df.drop(['int_rate'], axis=1)\n",
    "    y_set = df['int_rate']\n",
    "    x_train, x_test, y_train, y_test = train_test_split(x_set, y_set, random_state=0)\n",
    "    x_train = StandardScaler().fit_transform(x_train)\n",
    "    x_test = StandardScaler().fit_transform(x_test)\n",
    "    print(\"Starting MLP Regression\")\n",
    "    mlp = MLPRegressor(solver='lbfgs', hidden_layer_sizes=50,\n",
    "                               max_iter=150, shuffle=True, random_state=1)\n",
    "    mlp.fit(x_train, y_train)\n",
    "    mlp_predictions = mlp.predict(x_test)\n",
    "    print(\"MAE is \",mean_absolute_error(y_test, mlp_predictions))\n",
    "    print(\"RMSE is \",math.sqrt(mean_squared_error(y_test, mlp_predictions)))\n",
    "    print(\"MAPE is \",mean_absolute_percentage_error(y_test, mlp_predictions))\n",
    "    print(\"Training score is \",mlp.score(x_train, y_train))\n",
    "    print(\"Testing score is \",mlp.score(x_test, y_test))"
   ]
  }
 ],
 "metadata": {
  "kernelspec": {
   "display_name": "Python 3",
   "language": "python",
   "name": "python3"
  },
  "language_info": {
   "codemirror_mode": {
    "name": "ipython",
    "version": 3
   },
   "file_extension": ".py",
   "mimetype": "text/x-python",
   "name": "python",
   "nbconvert_exporter": "python",
   "pygments_lexer": "ipython3",
   "version": "3.6.1"
  }
 },
 "nbformat": 4,
 "nbformat_minor": 2
}

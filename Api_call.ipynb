{
 "cells": [
  {
   "cell_type": "code",
   "execution_count": null,
   "metadata": {},
   "outputs": [],
   "source": [
    "import requests\n",
    " \n",
    "response = requests.post('the url',\n",
    "    headers = {\n",
    "        'Authorization':('Bearer '+ 'the api key'),\n",
    "        \"Content-Type\": \"application/json\"\n",
    "    },\n",
    "    json ={\n",
    "\n",
    "        \"Inputs\": {\n",
    "\n",
    "                \"input1\":\n",
    "                {\n",
    "                    \"ColumnNames\": ['loan_amnt', 'risk_score', 'income', 'debt', 'emp_length','term','purpose'],\n",
    "                    \"Values\": [ [ \"1000\", \"300\", \"50000\", \"2000\" ,\"5\",\"36\",\"wedding\"] ]\n",
    "                },        },\n",
    "            \"GlobalParameters\": {\n",
    "}\n",
    "    }\n",
    ")\n",
    " \n",
    "respone = response.json()\n",
    "response"
   ]
  }
 ],
 "metadata": {
  "kernelspec": {
   "display_name": "Python 3",
   "language": "python",
   "name": "python3"
  },
  "language_info": {
   "codemirror_mode": {
    "name": "ipython",
    "version": 3
   },
   "file_extension": ".py",
   "mimetype": "text/x-python",
   "name": "python",
   "nbconvert_exporter": "python",
   "pygments_lexer": "ipython3",
   "version": "3.6.1"
  }
 },
 "nbformat": 4,
 "nbformat_minor": 2
}

{
 "cells": [
  {
   "cell_type": "code",
   "execution_count": 8,
   "metadata": {
    "collapsed": true
   },
   "outputs": [],
   "source": [
    "import numpy as np\n",
    "import pandas as pd\n",
    "import seaborn as sns\n",
    "%matplotlib inline\n",
    "import math\n",
    "from datetime import datetime"
   ]
  },
  {
   "cell_type": "code",
   "execution_count": 6,
   "metadata": {
    "collapsed": true
   },
   "outputs": [],
   "source": [
    "loan_data_df = pd.read_csv(\"C:\\\\ADS\\\\LendingClubData\\\\loan_data\\\\loan_data.csv\",low_memory=False)"
   ]
  },
  {
   "cell_type": "code",
   "execution_count": 13,
   "metadata": {
    "collapsed": true
   },
   "outputs": [],
   "source": [
    "loan_classification_df =  loan_data_df"
   ]
  },
  {
   "cell_type": "code",
   "execution_count": 14,
   "metadata": {
    "collapsed": true
   },
   "outputs": [],
   "source": [
    "loan_classification_df = loan_classification_df[loan_classification_df['fico_range_low'].notnull()]\n",
    "loan_classification_df = loan_classification_df[loan_classification_df['fico_range_high'].notnull()]\n",
    "loan_classification_df = loan_classification_df[loan_classification_df['fico_range_low'] > 660]\n",
    "loan_classification_df['risk_score'] = (loan_classification_df['fico_range_low'] + loan_classification_df['fico_range_high']) / 2\n",
    "loan_classification_df['term'] = loan_classification_df['term'].map({' 36 months': 36, ' 60 months' : 60})\n",
    "loan_classification_df['int_rate'] = loan_classification_df['int_rate'].map(lambda x : x.replace('%', ''))\n",
    "loan_classification_df['int_rate'] = loan_classification_df['int_rate'].map(float)\n",
    "loan_classification_df = loan_classification_df[loan_classification_df['dti'].notnull() & loan_classification_df['loan_amnt'].notnull()]"
   ]
  },
  {
   "cell_type": "code",
   "execution_count": 32,
   "metadata": {},
   "outputs": [],
   "source": [
    "loan_classification_df = loan_classification_df[loan_classification_df['emp_length'].notnull()]\n",
    "loan_classification_df['emp_length'] = loan_classification_df['emp_length'].map(int)"
   ]
  },
  {
   "cell_type": "code",
   "execution_count": 33,
   "metadata": {
    "collapsed": true
   },
   "outputs": [],
   "source": [
    "loan_classification_df = loan_classification_df.dropna(axis=1, thresh=0.30 * loan_classification_df.shape[0])\n",
    "loan_classification_df = loan_classification_df.dropna(axis=0, thresh = 0.30 * (loan_classification_df.shape[1]))"
   ]
  },
  {
   "cell_type": "code",
   "execution_count": 35,
   "metadata": {},
   "outputs": [],
   "source": [
    "loan_classification_df = loan_classification_df[loan_classification_df['loan_amnt'].notnull() \\\n",
    "                                                              & loan_classification_df['purpose'].notnull() \\\n",
    "                                                             & loan_classification_df['risk_score'].notnull() \\\n",
    "                                                             & loan_classification_df['dti'].notnull() \\\n",
    "                                                             & loan_classification_df['addr_state'].notnull() \\\n",
    "                                                             & loan_classification_df['emp_length'].notnull()]"
   ]
  },
  {
   "cell_type": "code",
   "execution_count": 36,
   "metadata": {
    "collapsed": true
   },
   "outputs": [],
   "source": [
    "loan_classification_df = loan_classification_df[['loan_amnt', 'purpose', 'risk_score', 'dti', 'addr_state', 'emp_length']]\n",
    "loan_classification_df['accepted'] = 1"
   ]
  },
  {
   "cell_type": "code",
   "execution_count": 40,
   "metadata": {},
   "outputs": [],
   "source": [
    "rejected_data_df = pd.read_csv(\"C:\\\\ADS\\\\LendingClubData\\\\loan_data\\\\rejected_data.csv\",low_memory=False,skiprows=1)"
   ]
  },
  {
   "cell_type": "code",
   "execution_count": 42,
   "metadata": {},
   "outputs": [],
   "source": [
    "common_title = pd.Series(list(set(loan_classification_df['purpose']) & set(rejected_data_df['Loan Title'])))\n",
    "rejected_data_df = rejected_data_df.loc[rejected_data_df['Loan Title'].isin(common_title)]\n",
    "rejected_data_df = rejected_data_df[rejected_data_df['Policy Code'].notnull()]"
   ]
  },
  {
   "cell_type": "code",
   "execution_count": 43,
   "metadata": {
    "collapsed": true
   },
   "outputs": [],
   "source": [
    "rejected_data_df = rejected_data_df.rename(columns = {'Amount Requested' : 'loan_amnt', 'Loan Title' : 'purpose', 'Risk_Score' : 'risk_score', 'Debt-To-Income Ratio' : 'dti', 'Zip Code' : 'zip_code', 'State' : 'addr_state', 'Employment Length' : 'emp_length', 'Policy Code' : 'policy_code'})"
   ]
  },
  {
   "cell_type": "code",
   "execution_count": 45,
   "metadata": {},
   "outputs": [],
   "source": [
    "rejected_data_df = rejected_data_df[rejected_data_df['emp_length'].notnull()]\n",
    "rejected_data_df = rejected_data_df[rejected_data_df['emp_length'] != 'n/a']\n",
    "rejected_data_df['emp_length'] = rejected_data_df['emp_length'].map({'4 years' : 4, '8 years' : 8, '10+ years' : 10, '< 1 year' : 0, '6 years' : 6, '2 years' : 2,\n",
    "       '1 year' : 1, '3 years' : 3, '5 years' : 5, '7 years' : 7, '9 years' : 9})\n",
    "rejected_data_df['emp_length'] = rejected_data_df['emp_length'].map(int)\n",
    "rejected_data_df['dti'] = rejected_data_df['dti'].map(lambda x : x.replace('%', ''))"
   ]
  },
  {
   "cell_type": "code",
   "execution_count": 46,
   "metadata": {
    "collapsed": true
   },
   "outputs": [],
   "source": [
    "rejected_data_df = rejected_data_df[rejected_data_df['loan_amnt'].notnull() \\\n",
    "                                                              & rejected_data_df['purpose'].notnull() \\\n",
    "                                                             & rejected_data_df['risk_score'].notnull() \\\n",
    "                                                             & rejected_data_df['dti'].notnull() \\\n",
    "                                                             & rejected_data_df['addr_state'].notnull() \\\n",
    "                                                             & rejected_data_df['emp_length'].notnull()]"
   ]
  },
  {
   "cell_type": "code",
   "execution_count": 47,
   "metadata": {
    "collapsed": true
   },
   "outputs": [],
   "source": [
    "rejected_data_df = rejected_data_df[['loan_amnt', 'purpose', 'risk_score', 'dti', 'addr_state', 'emp_length']]\n",
    "rejected_data_df['accepted'] = 0"
   ]
  },
  {
   "cell_type": "code",
   "execution_count": 53,
   "metadata": {},
   "outputs": [],
   "source": [
    "data_list = [loan_classification_df, rejected_data_df]\n",
    "classification_data = pd.concat(data_list, ignore_index=True)\n",
    "classification_data = classification_data.dropna(axis=0)\n",
    "purpose_dummies = pd.get_dummies(classification_data['purpose'])\n",
    "addr_dummies = pd.get_dummies(classification_data['addr_state'])\n",
    "classification_data = classification_data.join(purpose_dummies)\n",
    "classification_data = classification_data.join(addr_dummies)\n",
    "classification_data.drop('purpose', 1, inplace=True)\n",
    "classification_data.drop('addr_state', 1, inplace=True)\n",
    "classification_data.to_csv('C:\\\\ADS\\\\LendingClubData\\\\loan_data\\\\classification_data.csv', index = False)"
   ]
  },
  {
   "cell_type": "code",
   "execution_count": 73,
   "metadata": {
    "collapsed": true
   },
   "outputs": [],
   "source": [
    "loan_clustering_df =  loan_data_df"
   ]
  },
  {
   "cell_type": "code",
   "execution_count": 74,
   "metadata": {
    "collapsed": true
   },
   "outputs": [],
   "source": [
    "loan_clustering_df = loan_clustering_df[loan_clustering_df['fico_range_low'].notnull()]\n",
    "loan_clustering_df = loan_clustering_df[loan_clustering_df['fico_range_high'].notnull()]\n",
    "loan_clustering_df = loan_clustering_df[loan_clustering_df['fico_range_low'] > 660]\n",
    "loan_clustering_df['risk_score'] = (loan_clustering_df['fico_range_low'] + loan_clustering_df['fico_range_high']) / 2\n",
    "loan_clustering_df['term'] = loan_clustering_df['term'].map({' 36 months': 36, ' 60 months' : 60})\n",
    "loan_clustering_df['int_rate'] = loan_clustering_df['int_rate'].map(lambda x : x.replace('%', ''))\n",
    "loan_clustering_df['int_rate'] = loan_clustering_df['int_rate'].map(float)\n",
    "loan_clustering_df = loan_clustering_df[loan_clustering_df['dti'].notnull() & loan_clustering_df['loan_amnt'].notnull()]"
   ]
  },
  {
   "cell_type": "code",
   "execution_count": 75,
   "metadata": {},
   "outputs": [],
   "source": [
    "loan_clustering_df = loan_clustering_df[loan_clustering_df['emp_length'].notnull()]\n",
    "loan_clustering_df = loan_clustering_df[loan_clustering_df['emp_length'] != 'n/a']\n",
    "loan_clustering_df['emp_length'] = loan_clustering_df['emp_length'].map({'4 years' : 4, '8 years' : 8, '10+ years' : 10, '< 1 year' : 0, '6 years' : 6, '2 years' : 2,\n",
    "       '1 year' : 1, '3 years' : 3, '5 years' : 5, '7 years' : 7, '9 years' : 9})\n",
    "loan_clustering_df['emp_length'] = loan_clustering_df['emp_length'].map(int)"
   ]
  },
  {
   "cell_type": "code",
   "execution_count": 76,
   "metadata": {
    "collapsed": true
   },
   "outputs": [],
   "source": [
    "loan_clustering_df = loan_clustering_df.dropna(axis=1, thresh=0.30 * loan_clustering_df.shape[0])\n",
    "loan_clustering_df = loan_clustering_df.dropna(axis=0, thresh = 0.30 * (loan_clustering_df.shape[1]))"
   ]
  },
  {
   "cell_type": "code",
   "execution_count": 77,
   "metadata": {
    "collapsed": true
   },
   "outputs": [],
   "source": [
    "loan_clustering_df = loan_clustering_df[['loan_amnt', 'purpose', 'risk_score', 'dti', 'grade', 'emp_length', 'annual_inc', 'term', 'sub_grade', 'int_rate']]"
   ]
  },
  {
   "cell_type": "code",
   "execution_count": 78,
   "metadata": {
    "collapsed": true
   },
   "outputs": [],
   "source": [
    "loan_clustering_df = loan_clustering_df[loan_clustering_df['int_rate'] <=25]\n",
    "loan_clustering_df = loan_clustering_df[loan_clustering_df['loan_amnt'] <= 38000]"
   ]
  },
  {
   "cell_type": "code",
   "execution_count": 79,
   "metadata": {
    "collapsed": true
   },
   "outputs": [],
   "source": [
    "purpose_dummies = pd.get_dummies(loan_clustering_df['purpose'])\n",
    "sub_grade_dummies = pd.get_dummies(loan_clustering_df['sub_grade'])\n",
    "loan_clustering_df = loan_clustering_df.join(purpose_dummies)\n",
    "loan_clustering_df = loan_clustering_df.join(sub_grade_dummies)\n",
    "loan_clustering_df.drop('purpose', 1, inplace=True)\n",
    "loan_clustering_df.drop('sub_grade', 1, inplace=True)"
   ]
  },
  {
   "cell_type": "code",
   "execution_count": 80,
   "metadata": {},
   "outputs": [],
   "source": [
    "loan_clustering_df = loan_clustering_df[loan_clustering_df['annual_inc'].notnull()]"
   ]
  },
  {
   "cell_type": "code",
   "execution_count": 81,
   "metadata": {},
   "outputs": [],
   "source": [
    "loan_clustering_df.to_csv('C:\\\\ADS\\\\LendingClubData\\\\loan_data\\\\clustering_data.csv', index = False)"
   ]
  }
 ],
 "metadata": {
  "kernelspec": {
   "display_name": "Python 3",
   "language": "python",
   "name": "python3"
  },
  "language_info": {
   "codemirror_mode": {
    "name": "ipython",
    "version": 3
   },
   "file_extension": ".py",
   "mimetype": "text/x-python",
   "name": "python",
   "nbconvert_exporter": "python",
   "pygments_lexer": "ipython3",
   "version": "3.6.1"
  }
 },
 "nbformat": 4,
 "nbformat_minor": 2
}
